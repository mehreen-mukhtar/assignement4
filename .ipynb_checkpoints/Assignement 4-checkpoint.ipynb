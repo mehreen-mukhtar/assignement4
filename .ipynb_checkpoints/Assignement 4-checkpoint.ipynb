{
 "cells": [
  {
   "cell_type": "markdown",
   "id": "655dd610-622c-45f2-8566-2c2d694e18ba",
   "metadata": {},
   "source": [
    "# **Assignement 04**"
   ]
  },
  {
   "cell_type": "markdown",
   "id": "6bb1489b-eef7-4df8-b2f3-1cc481868a14",
   "metadata": {},
   "source": [
    "## Question No. 4-1"
   ]
  },
  {
   "cell_type": "code",
   "execution_count": 3,
   "id": "1094a0dd-9096-4420-a42c-80e471016c4a",
   "metadata": {},
   "outputs": [
    {
     "name": "stdout",
     "output_type": "stream",
     "text": [
      "Dear Maha, \n",
      "       I would like to invite you for dinner.\n",
      "       \n",
      "                   Thankh you!\n",
      "       \n",
      "       \n",
      "Dear Mirha, \n",
      "       I would like to invite you for dinner.\n",
      "       \n",
      "                   Thankh you!\n",
      "       \n",
      "       \n",
      "Dear Muskan, \n",
      "       I would like to invite you for dinner.\n",
      "       \n",
      "                   Thankh you!\n",
      "       \n",
      "       \n"
     ]
    }
   ],
   "source": [
    "# first make a list of inviting people.\n",
    "\n",
    "guests_list = [\"Maha\",\"Mirha\",\"Muskan\"]\n",
    "\n",
    "# Dinner Invitation\n",
    "for guest in guests_list:\n",
    "       print(f\"\"\"Dear {guest}, \n",
    "       I would like to invite you for dinner.\n",
    "       \n",
    "                   Thankh you!\n",
    "       \n",
    "       \"\"\")"
   ]
  },
  {
   "cell_type": "markdown",
   "id": "fa022ed2-6eed-4f47-9849-8a8141df63ff",
   "metadata": {},
   "source": [
    "## Question No. 4-2"
   ]
  },
  {
   "cell_type": "code",
   "execution_count": 5,
   "id": "f47c176b-b922-4f80-9bc4-e723d7e9c16d",
   "metadata": {},
   "outputs": [
    {
     "name": "stdout",
     "output_type": "stream",
     "text": [
      "Unfortunately, Mirha can not make dinner.\n",
      "\n",
      "Dear Maha, \n",
      "    I would like to invite you for dinner.\n",
      "\n",
      "Dear zehra, \n",
      "    I would like to invite you for dinner.\n",
      "\n",
      "Dear Muskan, \n",
      "    I would like to invite you for dinner.\n"
     ]
    }
   ],
   "source": [
    "\n",
    "guests_list = [\"Maha\",\"Mirha\",\"Muskan\"]\n",
    "\n",
    "print(\"Unfortunately, \"+guests_list[1]+\" can not make dinner.\")\n",
    "      \n",
    "guests_list[1] = \"zehra\"\n",
    "\n",
    "for guests in guests_list:\n",
    "    \n",
    "    print(f\"\"\"\n",
    "Dear {guests}, \n",
    "    I would like to invite you for dinner.\"\"\")\n"
   ]
  },
  {
   "cell_type": "markdown",
   "id": "39f17ac1-68a5-4a47-b5a8-c3199b3b5711",
   "metadata": {},
   "source": [
    "## Question No. 4-3"
   ]
  },
  {
   "cell_type": "code",
   "execution_count": 7,
   "id": "1e875302-9904-49e3-bf06-ebd93398882d",
   "metadata": {},
   "outputs": [
    {
     "data": {
      "text/plain": [
       "['Maha', 'zehra', 'Muskan']"
      ]
     },
     "execution_count": 7,
     "metadata": {},
     "output_type": "execute_result"
    }
   ],
   "source": [
    "# Now we invite six people for dinner\n",
    "guests_list"
   ]
  },
  {
   "cell_type": "code",
   "execution_count": 8,
   "id": "080dc8fb-5d72-48f1-b125-335b24f9c9c9",
   "metadata": {},
   "outputs": [
    {
     "name": "stdout",
     "output_type": "stream",
     "text": [
      "Dear misbah,\n",
      "     I would like to invite you for dinner.\n",
      "                                  Thank you!\n",
      "Dear Maha,\n",
      "     I would like to invite you for dinner.\n",
      "                                  Thank you!\n",
      "Dear mehwish,\n",
      "     I would like to invite you for dinner.\n",
      "                                  Thank you!\n",
      "Dear zehra,\n",
      "     I would like to invite you for dinner.\n",
      "                                  Thank you!\n",
      "Dear Muskan,\n",
      "     I would like to invite you for dinner.\n",
      "                                  Thank you!\n",
      "Dear laiba,\n",
      "     I would like to invite you for dinner.\n",
      "                                  Thank you!\n"
     ]
    }
   ],
   "source": [
    "guests_list.insert(0,\"misbah\")\n",
    "guests_list.insert(2,\"mehwish\")\n",
    "guests_list.append(\"laiba\")\n",
    "guests_list\n",
    "\n",
    "# Dinner Invitation\n",
    "for guest in guests_list:\n",
    "    print(f\"\"\"Dear {guest},\n",
    "     I would like to invite you for dinner.\n",
    "                                  Thank you!\"\"\")\n"
   ]
  },
  {
   "cell_type": "markdown",
   "id": "2582cf25-7f59-49c5-b02d-8c4a79137c9a",
   "metadata": {},
   "source": [
    "## Question No. 4-4"
   ]
  },
  {
   "cell_type": "code",
   "execution_count": 10,
   "id": "54f66f4b-562f-427d-be4c-49a58f2f71ee",
   "metadata": {},
   "outputs": [
    {
     "data": {
      "text/plain": [
       "['misbah', 'Maha', 'mehwish', 'zehra', 'Muskan', 'laiba']"
      ]
     },
     "execution_count": 10,
     "metadata": {},
     "output_type": "execute_result"
    }
   ],
   "source": [
    "guests_list"
   ]
  },
  {
   "cell_type": "code",
   "execution_count": 11,
   "id": "94b129ed-ec29-4bf1-8000-2359fed36445",
   "metadata": {},
   "outputs": [
    {
     "name": "stdout",
     "output_type": "stream",
     "text": [
      "I apologize to all of you because i have only two seats for the invitation of dinner.\n",
      "Dear laiba,\n",
      "I apologize to can not invite you for Dinner.\n",
      "Dear Muskan,\n",
      "I apologize to can not invite you for Dinner.\n",
      "Dear zehra,\n",
      "I apologize to can not invite you for Dinner.\n",
      "Dear mehwish,\n",
      "I apologize to can not invite you for Dinner.\n"
     ]
    }
   ],
   "source": [
    "# Message for guests \n",
    "print(\"I apologize to all of you because i have only two seats for the invitation of dinner.\")\n",
    "# inivting only two guests\n",
    "while len(guests_list) >2:\n",
    "    guests = guests_list.pop()\n",
    "    print(f\"\"\"Dear {guests},\n",
    "I apologize to can not invite you for Dinner.\"\"\")"
   ]
  },
  {
   "cell_type": "code",
   "execution_count": 12,
   "id": "7f4a9a49-0e83-4947-8dc9-d441685c5ec7",
   "metadata": {},
   "outputs": [
    {
     "name": "stdout",
     "output_type": "stream",
     "text": [
      "Dear misbah,\n",
      "    i invite you for dinner.\n",
      "    \n",
      "Dear Maha,\n",
      "    i invite you for dinner.\n",
      "    \n"
     ]
    }
   ],
   "source": [
    "for guest in guests_list:\n",
    "    print(f\"\"\"Dear {guest},\n",
    "    i invite you for dinner.\n",
    "    \"\"\")"
   ]
  },
  {
   "cell_type": "code",
   "execution_count": 26,
   "id": "f65042a4-cf4e-4d1f-8432-ef5f10199be2",
   "metadata": {},
   "outputs": [
    {
     "data": {
      "text/plain": [
       "['misbah', 'Maha']"
      ]
     },
     "execution_count": 26,
     "metadata": {},
     "output_type": "execute_result"
    }
   ],
   "source": [
    "guests_list"
   ]
  },
  {
   "cell_type": "code",
   "execution_count": 28,
   "id": "5dd871a6-a8cf-41b5-bf5b-7df1a4e86a29",
   "metadata": {},
   "outputs": [
    {
     "data": {
      "text/plain": [
       "[]"
      ]
     },
     "execution_count": 28,
     "metadata": {},
     "output_type": "execute_result"
    }
   ],
   "source": [
    "del guests_list[:]\n",
    "guests_list"
   ]
  },
  {
   "cell_type": "markdown",
   "id": "452c07d4-8712-4068-8e58-bfd6c2cf415f",
   "metadata": {},
   "source": [
    "## Question No. 4-5"
   ]
  },
  {
   "cell_type": "code",
   "execution_count": 30,
   "id": "fe51038c-ea67-4e0c-b1a8-4e571c46a1ef",
   "metadata": {},
   "outputs": [
    {
     "data": {
      "text/plain": [
       "[1, 2, 3, 4, 5, 9, 3, 7, 6, 9, 8, 4, 1, 2, 3]"
      ]
     },
     "execution_count": 30,
     "metadata": {},
     "output_type": "execute_result"
    }
   ],
   "source": [
    "num_list = [1,2,3,4,5,9,3,7,6,9,8,4,1,2,3]\n",
    "num_list"
   ]
  },
  {
   "cell_type": "code",
   "execution_count": 34,
   "id": "0b0e038c-8941-4708-b574-984bbb3bdd4e",
   "metadata": {},
   "outputs": [
    {
     "data": {
      "text/plain": [
       "[3, 4, 5, 9, 3]"
      ]
     },
     "execution_count": 34,
     "metadata": {},
     "output_type": "execute_result"
    }
   ],
   "source": [
    "new_list = num_list[2:7]\n",
    "new_list"
   ]
  },
  {
   "cell_type": "code",
   "execution_count": 42,
   "id": "e1aa08ab-407b-47a5-acc8-3d8657d33cd4",
   "metadata": {},
   "outputs": [
    {
     "data": {
      "text/plain": [
       "[3, 4, 5, 9]"
      ]
     },
     "execution_count": 42,
     "metadata": {},
     "output_type": "execute_result"
    }
   ],
   "source": [
    "new_list[:4]"
   ]
  },
  {
   "cell_type": "code",
   "execution_count": 44,
   "id": "9203ab48-9587-412d-8d3a-9cd3ba15dc2c",
   "metadata": {},
   "outputs": [
    {
     "data": {
      "text/plain": [
       "[5, 9, 3]"
      ]
     },
     "execution_count": 44,
     "metadata": {},
     "output_type": "execute_result"
    }
   ],
   "source": [
    "new_list[2:5]"
   ]
  },
  {
   "cell_type": "code",
   "execution_count": 48,
   "id": "1760f40c-3e16-4fe6-84ba-679cf549597e",
   "metadata": {},
   "outputs": [
    {
     "data": {
      "text/plain": [
       "[4, 5, 9]"
      ]
     },
     "execution_count": 48,
     "metadata": {},
     "output_type": "execute_result"
    }
   ],
   "source": [
    "new_list[1:4]"
   ]
  },
  {
   "cell_type": "code",
   "execution_count": 36,
   "id": "d2e15d73-8d0a-44c4-aa96-7fe1aa8923cc",
   "metadata": {},
   "outputs": [
    {
     "data": {
      "text/plain": [
       "[1, 2, 3, 4, 5, 9, 3, 7, 6, 9, 8, 4, 1, 2, 3, [3, 4, 5, 9, 3]]"
      ]
     },
     "execution_count": 36,
     "metadata": {},
     "output_type": "execute_result"
    }
   ],
   "source": [
    "num_list.append(new_list)\n",
    "num_list"
   ]
  },
  {
   "cell_type": "code",
   "execution_count": null,
   "id": "35f9285d-1a24-4a9c-8e02-691d05169011",
   "metadata": {},
   "outputs": [],
   "source": []
  },
  {
   "cell_type": "code",
   "execution_count": null,
   "id": "de9ef289-b5e6-469f-9d7d-e5b8202840e7",
   "metadata": {},
   "outputs": [],
   "source": []
  }
 ],
 "metadata": {
  "kernelspec": {
   "display_name": "Python 3 (ipykernel)",
   "language": "python",
   "name": "python3"
  },
  "language_info": {
   "codemirror_mode": {
    "name": "ipython",
    "version": 3
   },
   "file_extension": ".py",
   "mimetype": "text/x-python",
   "name": "python",
   "nbconvert_exporter": "python",
   "pygments_lexer": "ipython3",
   "version": "3.12.4"
  }
 },
 "nbformat": 4,
 "nbformat_minor": 5
}
